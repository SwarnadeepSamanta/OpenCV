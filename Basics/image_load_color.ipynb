{
 "cells": [
  {
   "cell_type": "code",
   "execution_count": 9,
   "id": "fadeb5f9",
   "metadata": {},
   "outputs": [],
   "source": [
    "import cv2"
   ]
  },
  {
   "cell_type": "code",
   "execution_count": 10,
   "id": "20264c5c",
   "metadata": {},
   "outputs": [],
   "source": [
    " image =cv2.imread('img_vid/cartoon.jpg')\n",
    "# image =cv2.imread('img_vid/cartoon.jpg',cv2.IMREAD_COLOR) #Channel order is BGR in Color mode\n",
    "# image =cv2.imread('img_vid/cartoon.jpg',cv2.IMREAD_GRAYSCALE)\n",
    "# image =cv2.imread('img_vid/cartoon.jpg',cv2.IMREAD_UNCHANGED) #for x-rays or like images"
   ]
  },
  {
   "cell_type": "code",
   "execution_count": 11,
   "id": "199693f1",
   "metadata": {},
   "outputs": [],
   "source": [
    "#Function to Display\n",
    "cv2.imshow('Test Image',image)\n",
    "cv2.waitKey()\n",
    "#cv2.waitKey(5000)\n",
    "cv2.destroyAllWindows()"
   ]
  },
  {
   "cell_type": "code",
   "execution_count": null,
   "id": "cfb56bd0",
   "metadata": {},
   "outputs": [],
   "source": []
  }
 ],
 "metadata": {
  "kernelspec": {
   "display_name": "Python 3 (ipykernel)",
   "language": "python",
   "name": "python3"
  },
  "language_info": {
   "codemirror_mode": {
    "name": "ipython",
    "version": 3
   },
   "file_extension": ".py",
   "mimetype": "text/x-python",
   "name": "python",
   "nbconvert_exporter": "python",
   "pygments_lexer": "ipython3",
   "version": "3.8.5"
  }
 },
 "nbformat": 4,
 "nbformat_minor": 5
}
